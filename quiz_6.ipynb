{
 "cells": [
  {
   "cell_type": "markdown",
   "id": "c585ec11",
   "metadata": {},
   "source": [
    "This exercise asks you to build a simple portfolio management system.\n",
    "\n",
    "1. Write a Python class named Stock with attributes for stock symbol (a string), number of shares (an integer), and price (a float). Implement `__init__` and `__str__`.\n",
    "2. Create a class named Portfolio that manages a collection of Stock objects. Implement methods to add a new stock, update an existing stock's information (e.g., change the number of shares or price), and delete a stock from the portfolio.\n",
    "3. Implement a method to read a portfolio from a text file. The file will have stock data in a comma-separated format (e.g., AAPL,50,130.10 for Apple stock).\n",
    "4. Implement a method to write the current state of the portfolio to a text file in the same format.\n",
    "5. Implement a method to calculate the total portfolio value using a list comprehension.\n",
    "\n",
    "Test your code."
   ]
  },
  {
   "cell_type": "code",
   "execution_count": 413,
   "id": "7a4dde99-b639-4d7a-8651-aaa501bbf0fe",
   "metadata": {},
   "outputs": [],
   "source": [
    "class Stock: \n",
    "    def __init__(self, symbol, number_of_shares, price):\n",
    "        self.symbol = symbol\n",
    "        self.number_of_shares = number_of_shares\n",
    "        self.price = price\n",
    "\n",
    "    def __str__(self): \n",
    "        return \"Symbol: %s, Price: %s, Number of shares: %s \" %(self.symbol, self.price, self.number_of_shares)\n",
    "\n",
    "class Portfolio:  \n",
    "    def __init__(self):\n",
    "        self.stocks = []\n",
    "    def add_stock(self, stock):\n",
    "        self.stocks.append(stock)\n",
    "    def remove_stock(self, stock): \n",
    "        self.stocks.remove(stock)\n",
    "    def __str__(self): \n",
    "        stock_details = \"\\n\".join(str(stock) for stock in self.stocks)\n",
    "        return \"Stocks in the Portfolio: %s\" %(stock_details)\n",
    "    def change_stock(self, stock, price=0, number_of_shares = 0): \n",
    "        for s in self.stocks:\n",
    "            if s.symbol == stock.symbol: \n",
    "                s.price = price\n",
    "                s.number_of_shares = number_of_shares\n",
    "    def read_file(self, stock):\n",
    "        #open the file \n",
    "        "
   ]
  },
  {
   "cell_type": "code",
   "execution_count": 414,
   "id": "75300174-4d0c-435e-8004-2aa5821b9391",
   "metadata": {},
   "outputs": [],
   "source": [
    "# Create a portfolio\n",
    "portfolio = Portfolio()\n",
    "\n",
    "# Create stocks (not automatically added to the portfolio)\n",
    "apple = Stock(\"AAPL\", 100, 150.50)\n",
    "microsoft = Stock(\"MSFT\", 200, 320.75)\n",
    "\n",
    "# Manually add stocks to the portfolio\n",
    "portfolio.add_stock(apple)\n",
    "portfolio.add_stock(microsoft)\n",
    "portfolio.remove_stock(microsoft)\n",
    "\n",
    "# Print the portfolio\n",
    "portfolio.change_stock(stock = apple, price = 101, number_of_shares = 103)"
   ]
  },
  {
   "cell_type": "code",
   "execution_count": 412,
   "id": "9b6b7d27-8cc7-42a9-96fd-ab9c04372188",
   "metadata": {},
   "outputs": [
    {
     "name": "stdout",
     "output_type": "stream",
     "text": [
      "Stocks in the Portfolio: Symbol: AAPL, Price: 101, Number of shares: 103 \n"
     ]
    }
   ],
   "source": [
    "print(portfolio)\n"
   ]
  },
  {
   "cell_type": "code",
   "execution_count": null,
   "id": "f21bf463-7bc5-442f-8941-f84054bb0d26",
   "metadata": {},
   "outputs": [],
   "source": []
  }
 ],
 "metadata": {
  "kernelspec": {
   "display_name": "Python 3 (ipykernel)",
   "language": "python",
   "name": "python3"
  },
  "language_info": {
   "codemirror_mode": {
    "name": "ipython",
    "version": 3
   },
   "file_extension": ".py",
   "mimetype": "text/x-python",
   "name": "python",
   "nbconvert_exporter": "python",
   "pygments_lexer": "ipython3",
   "version": "3.12.4"
  }
 },
 "nbformat": 4,
 "nbformat_minor": 5
}
