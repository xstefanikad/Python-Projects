{
 "cells": [
  {
   "cell_type": "markdown",
   "id": "b61596bb",
   "metadata": {},
   "source": [
    "# Analysis of ATX and OMV Stock Data\r\n",
    "\r\n",
    "This script performs data processing and analysis on historical stock prices for the Austrian stock market index (ATX) and the OMV stock. It calculates key metrics such as daily returns, their mean, and standard deviation for the year 2020.\r\n",
    "\r\n",
    "## Key Steps:\r\n",
    "\r\n",
    "### 1. **Data Loading**:\r\n",
    "   - Reads CSV files containing historical data for ATX and OMV with the \"Date\" column as the index and parses dates for time-series analysis.\r\n",
    "\r\n",
    "### 2. **Data Merging**:\r\n",
    "   - Merges the two datasets on the \"Date\" column using the `Adj Close` prices, renames the columns for clarity (`OMV`, `ATX`), and fills any missing values with forward fill (`ffill()`).\r\n",
    "\r\n",
    "### 3. **Data Transformation**:\r\n",
    "   - **Stacking**: Converts the merged DataFrame into a hierarchically indexed Series using `stack()` for potential multi-level manipulation.\r\n",
    "   - **Unstacking**: Converts the stacked Series back to a DataFrame for further analysis.\r\n",
    "\r\n",
    "### 4. **Filter Data for 2020**:\r\n",
    "   - Extracts rows corresponding to the year 2020 using the `year` attribute of the DataFrame's index.\r\n",
    "\r\n",
    "### 5. **Return Calculation**:\r\n",
    "   - Computes daily percentage change (`pct_change()`) to calculate returns for both OMV and ATX.\r\n",
    "   - Adds two new columns: \r\n",
    "     - `\"returns omv\"`: Daily returns for OMV.\r\n",
    "     - `\"returns atx\"`: Daily returns for ATX.\r\n",
    "\r\n",
    "### 6. **Compute Metrics**:\r\n",
    "   - Calculates and prints the following metrics for both OMV and ATX returns:\r\n",
    "     - **Mean**: The average daily return.\r\n",
    "     - **Standard Deviation (STD)**: The volatility of daily returns.\r\n",
    "\r\n",
    "## Example Output:\r\n",
    "For OMV and ATX, the script prints:\r\n",
    "- Standard deviation of returns.\r\n",
    "- Mean of daily returns.\r\n",
    "\r\n",
    "This script effectively processes and analyzes historical financial data, focusing on performance and risk (volatility) for the year 2020.\r\n"
   ]
  },
  {
   "cell_type": "code",
   "execution_count": 77,
   "id": "e0cf6a8d-d4c0-4e44-a449-142e28b5a3c2",
   "metadata": {},
   "outputs": [
    {
     "name": "stdout",
     "output_type": "stream",
     "text": [
      "0.023430316382497787\n",
      "-0.00031575122912273263\n",
      "0.03974544798360507\n",
      "-0.0002903666195115611\n"
     ]
    }
   ],
   "source": [
    "import pandas as pd\n",
    "\n",
    "atx = pd.read_csv(\"C:\\\\Users\\\\Hry\\\\OneDrive\\\\Dokumenty\\\\Škola\\\\Masters\\\\Python for Finance\\\\quiz\\\\data\\\\ATX.csv\", index_col = \"Date\", parse_dates = True)\n",
    "omv = pd.read_csv(\"C:\\\\Users\\\\Hry\\\\OneDrive\\\\Dokumenty\\\\Škola\\\\Masters\\\\Python for Finance\\\\quiz\\\\data\\\\OMV.csv\", index_col = \"Date\", parse_dates = True)\n",
    "\n",
    "\n",
    "df = pd.merge(right = omv[\"Adj Close\"], left = atx[\"Adj Close\"], on = \"Date\", suffixes = (\"_omv\", \"_atx\")).rename(columns = {\"Adj Close_omv\": \"OMV\", \"Adj Close_atx\": \"ATX\"}).ffill()\n",
    "\n",
    "\n",
    "#TO TURN IT INTO HIERARCHICALLY INDEX SERIES, WE MUST STACK THEM FIRST\n",
    "\n",
    "s = df.stack()\n",
    "\n",
    "#UNSTACK IT TO TURN BACK INTO DATAFRAME\n",
    "\n",
    "s = s.unstack()\n",
    "s = pd.DataFrame(s)\n",
    "\n",
    "#CHOOSE DATA FOR 2020\n",
    "\n",
    "s = s[pd.to_datetime(s.index).year == 2020]\n",
    "\n",
    "#COMPUTE RETURNS COLUMN\n",
    "s[\"returns omv\"] = s[\"OMV\"].pct_change()\n",
    "s[\"returns atx\"] = s[\"ATX\"].pct_change()\n",
    "\n",
    "#COMPUTE AND PRINT MEAN AND STD\n",
    "\n",
    "print(s[\"returns omv\"].std())\n",
    "print(s[\"returns omv\"].mean())\n",
    "\n",
    "print(s[\"returns atx\"].std())\n",
    "\n",
    "print(s[\"returns atx\"].mean())"
   ]
  },
  {
   "cell_type": "code",
   "execution_count": null,
   "id": "a4137809-ea72-411f-927c-d9035c55fd3a",
   "metadata": {},
   "outputs": [],
   "source": []
  }
 ],
 "metadata": {
  "kernelspec": {
   "display_name": "Python 3 (ipykernel)",
   "language": "python",
   "name": "python3"
  },
  "language_info": {
   "codemirror_mode": {
    "name": "ipython",
    "version": 3
   },
   "file_extension": ".py",
   "mimetype": "text/x-python",
   "name": "python",
   "nbconvert_exporter": "python",
   "pygments_lexer": "ipython3",
   "version": "3.12.4"
  }
 },
 "nbformat": 4,
 "nbformat_minor": 5
}
