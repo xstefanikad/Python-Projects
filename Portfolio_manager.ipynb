{
 "cells": [
  {
   "cell_type": "markdown",
   "id": "c585ec11",
   "metadata": {},
   "source": [
    "# Object-Oriented Portfolio Management\r\n",
    "\r\n",
    "This script defines a basic object-oriented structure for managing a stock portfolio, including functionalities to add, remove, modify, and display stocks.\r\n",
    "\r\n",
    "## Classes\r\n",
    "\r\n",
    "### 1. `Stock`\r\n",
    "- Represents a single stock in the portfolio.\r\n",
    "- **Attributes**:\r\n",
    "  - `symbol`: The stock's ticker symbol (e.g., AAPL, MSFT).\r\n",
    "  - `number_of_shares`: The number of shares owned.\r\n",
    "  - `price`: The current price of the stock.\r\n",
    "- **Methods**:\r\n",
    "  - `__str__`: Returns a string representation of the stock's details.\r\n",
    "\r\n",
    "### 2. `Portfolio`\r\n",
    "- Represents the portfolio containing multiple stocks.\r\n",
    "- **Attributes**:\r\n",
    "  - `stocks`: A list of `Stock` objects in the portfolio.\r\n",
    "- **Methods**:\r\n",
    "  - `add_stock`: Adds a `Stock` object to the portfolio.\r\n",
    "  - `remove_stock`: Removes a `Stock` object from the portfolio.\r\n",
    "  - `change_stock`: Updates the price and/or number of shares for a specific stock in the portfolio.\r\n",
    "  - `__str__`: Returns a string representation of all stocks in the portfolio.\r\n",
    "  - `read_file`: Placeholder for a future method to load stock data from a file.\r\n",
    "\r\n",
    "## Demonstration\r\n",
    "\r\n",
    "1. **Create a Portfolio**:\r\n",
    "   - An empty `Portfolio` object is created.\r\n",
    "\r\n",
    "2. **Add Stocks**:\r\n",
    "   - Individual `Stock` objects (e.g., Apple, Microsoft) are created and added to the portfolio.\r\n",
    "\r\n",
    "3. **Remove Stocks**:\r\n",
    "   - Stocks can be removed from the portfolio.\r\n",
    "\r\n",
    "4. **Modify Stock Details**:\r\n",
    "   - The price and/or number of shares of a stock in the portfolio can be updated.\r\n",
    "\r\n",
    "5. **Display Portfolio**:\r\n",
    "   - The portfolio is displayed with details of all stocks.\r\n",
    "\r\n",
    "This script provides a flexible and extendable foundation for managing a stock portfolio programmatically.\r\n"
   ]
  },
  {
   "cell_type": "code",
   "execution_count": 413,
   "id": "7a4dde99-b639-4d7a-8651-aaa501bbf0fe",
   "metadata": {},
   "outputs": [],
   "source": [
    "class Stock: \n",
    "    def __init__(self, symbol, number_of_shares, price):\n",
    "        self.symbol = symbol\n",
    "        self.number_of_shares = number_of_shares\n",
    "        self.price = price\n",
    "\n",
    "    def __str__(self): \n",
    "        return \"Symbol: %s, Price: %s, Number of shares: %s \" %(self.symbol, self.price, self.number_of_shares)\n",
    "\n",
    "class Portfolio:  \n",
    "    def __init__(self):\n",
    "        self.stocks = []\n",
    "    def add_stock(self, stock):\n",
    "        self.stocks.append(stock)\n",
    "    def remove_stock(self, stock): \n",
    "        self.stocks.remove(stock)\n",
    "    def __str__(self): \n",
    "        stock_details = \"\\n\".join(str(stock) for stock in self.stocks)\n",
    "        return \"Stocks in the Portfolio: %s\" %(stock_details)\n",
    "    def change_stock(self, stock, price=0, number_of_shares = 0): \n",
    "        for s in self.stocks:\n",
    "            if s.symbol == stock.symbol: \n",
    "                s.price = price\n",
    "                s.number_of_shares = number_of_shares\n",
    "    def read_file(self, stock):\n",
    "        #open the file \n",
    "        "
   ]
  },
  {
   "cell_type": "code",
   "execution_count": 414,
   "id": "75300174-4d0c-435e-8004-2aa5821b9391",
   "metadata": {},
   "outputs": [],
   "source": [
    "# Create a portfolio\n",
    "portfolio = Portfolio()\n",
    "\n",
    "# Create stocks (not automatically added to the portfolio)\n",
    "apple = Stock(\"AAPL\", 100, 150.50)\n",
    "microsoft = Stock(\"MSFT\", 200, 320.75)\n",
    "\n",
    "# Manually add stocks to the portfolio\n",
    "portfolio.add_stock(apple)\n",
    "portfolio.add_stock(microsoft)\n",
    "portfolio.remove_stock(microsoft)\n",
    "\n",
    "# Print the portfolio\n",
    "portfolio.change_stock(stock = apple, price = 101, number_of_shares = 103)"
   ]
  },
  {
   "cell_type": "code",
   "execution_count": 412,
   "id": "9b6b7d27-8cc7-42a9-96fd-ab9c04372188",
   "metadata": {},
   "outputs": [
    {
     "name": "stdout",
     "output_type": "stream",
     "text": [
      "Stocks in the Portfolio: Symbol: AAPL, Price: 101, Number of shares: 103 \n"
     ]
    }
   ],
   "source": [
    "print(portfolio)\n"
   ]
  },
  {
   "cell_type": "code",
   "execution_count": null,
   "id": "f21bf463-7bc5-442f-8941-f84054bb0d26",
   "metadata": {},
   "outputs": [],
   "source": []
  }
 ],
 "metadata": {
  "kernelspec": {
   "display_name": "Python 3 (ipykernel)",
   "language": "python",
   "name": "python3"
  },
  "language_info": {
   "codemirror_mode": {
    "name": "ipython",
    "version": 3
   },
   "file_extension": ".py",
   "mimetype": "text/x-python",
   "name": "python",
   "nbconvert_exporter": "python",
   "pygments_lexer": "ipython3",
   "version": "3.12.4"
  }
 },
 "nbformat": 4,
 "nbformat_minor": 5
}
