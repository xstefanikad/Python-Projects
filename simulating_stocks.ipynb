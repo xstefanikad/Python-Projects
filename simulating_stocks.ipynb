{
 "cells": [
  {
   "cell_type": "markdown",
   "id": "56e5da1e",
   "metadata": {},
   "source": [
    "# Simulating and Visualizing Stock Prices Over a Year\r\n",
    "\r\n",
    "This script generates and visualizes stock price trends for five stocks over a year (52 weeks). It calculates key summary statistics for each quarter.\r\n",
    "\r\n",
    "## Key Steps:\r\n",
    "\r\n",
    "1. **Simulating Weekly Stock Prices**:\r\n",
    "   - Weekly returns for five stocks are simulated using a normal distribution\n",
    "     with a predefine.0025`) and standard de`0.05`).\r\n",
    "   - Prices are calculated using cumulative product of returns, starting from an initial value of 100.\r\n",
    "\r\n",
    "2. **Data Organization**:\r\n",
    "   - Prices are stored in a pandas DataFrame with stocks as rows and weeks as columns for easy manipulation and analysis.\r\n",
    "   - The DataFrame is later transposed to make weeks the rows for easier quarterly analysis.\r\n",
    "\r\n",
    "3. **Visualization**:\r\n",
    "   - A line plot is created to visualize stock price trends over the year.\r\n",
    "   - Each line represents a stock, with a legend for identification.\r\n",
    "\r\n",
    "4. **Quarterly Statistics**:\r\n",
    "   - For each quarter (13 weeks), the following statistics are computed:\r\n",
    "     - **Minimum price**\r\n",
    "     - **Average price**\r\n",
    "     - **Maximum price**\r\n",
    "   - These statistics provide insights into the performance of the stocks during each quarter.\r\n",
    "\r\n",
    "The script provides a comprehensive view of stock price behavior and key trends across four quarters.\r\n"
   ]
  },
  {
   "cell_type": "code",
   "execution_count": null,
   "id": "4fd7042f-633d-464a-bda2-8441f9fb2221",
   "metadata": {
    "scrolled": true
   },
   "outputs": [],
   "source": [
    "import numpy as np\n",
    "import pandas as pd\n",
    "import matplotlib.pyplot as plt \n",
    "\n",
    "rng = np.random.default_rng(12345)\n",
    "rng1 = np.random.default_rng()\n",
    "weeks = 52\n",
    "mean = 0.0025\n",
    "std = 0.05\n",
    "stock_names = [\"Stock\" + str(i+1) for i in range(5)]\n",
    "returns = rng.normal(loc = mean, scale = std, size = (5,52)) + 1\n",
    "prices = np.cumprod(returns, axis = 1) * 100\n",
    "row_names = np.arange(52).tolist()\n",
    "prices = pd.DataFrame(prices, index = stock_names  , columns = row_names )\n",
    "\n",
    "plt.figure(figsize = (12,6))\n",
    "graph = plt.plot(prices.T)\n",
    "labels = stock_names\n",
    "plt.legend(graph, labels, fontsize = 12)\n",
    "plt.xlabel(\"Time\")\n",
    "plt.ylabel(\"Price\")\n",
    "\n",
    "prices = prices.T\n",
    "\n",
    "#quarter 1\n",
    "print(f\"Minimum price for quarter 1 is: {prices.iloc[0:13].min()}\")\n",
    "print(f\"Average price for quarter 1 is: {prices.iloc[0:13].mean()}\")\n",
    "print(f\"Maximum price for quarter 1 is: {prices.iloc[0:13].max()}\")\n",
    "\n",
    "#quarter 2 \n",
    "print(f\"Minimum price for quarter 2 is: {prices.iloc[13:26].min()}\")\n",
    "print(f\"Average price for quarter 2 is: {prices.iloc[13:26].mean()}\")\n",
    "print(f\"Maximum price for quarter 2 is: {prices.iloc[13:26].max()}\")\n",
    "\n",
    "#quarter 3 \n",
    "print(f\"Minimum price for quarter 3 is: {prices.iloc[26:39].min()}\")\n",
    "print(f\"Average price for quarter 3 is: {prices.iloc[26:39].mean()}\")\n",
    "print(f\"Maximum price for quarter 3 is: {prices.iloc[26:39].max()}\")\n",
    "\n",
    "#quarter 4 \n",
    "print(f\"Minimum price for quarter 4 is: {prices.iloc[39:52].min()}\")\n",
    "print(f\"Average price for quarter 4 is: {prices.iloc[39:52].mean()}\")\n",
    "print(f\"Maximum price for quarter 4 is: {prices.iloc[39:52].max()}\")\n",
    "\n"
   ]
  }
 ],
 "metadata": {
  "kernelspec": {
   "display_name": "Python 3 (ipykernel)",
   "language": "python",
   "name": "python3"
  },
  "language_info": {
   "codemirror_mode": {
    "name": "ipython",
    "version": 3
   },
   "file_extension": ".py",
   "mimetype": "text/x-python",
   "name": "python",
   "nbconvert_exporter": "python",
   "pygments_lexer": "ipython3",
   "version": "3.12.4"
  }
 },
 "nbformat": 4,
 "nbformat_minor": 5
}
