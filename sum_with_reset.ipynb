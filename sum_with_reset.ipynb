{
 "cells": [
  {
   "cell_type": "code",
   "execution_count": 359,
   "id": "58a8ade2-86d9-4785-b7ee-a0e3c2dc0d42",
   "metadata": {},
   "outputs": [],
   "source": [
    "def sum_with_reset(df, Dummies):\n",
    "    a[\"sum with reset\"] = 0\n",
    "    running_sum = 0\n",
    "    for i in range(len(df)):\n",
    "        if df.loc[i, \"Dummies\"] == 0:\n",
    "            running_sum = 0\n",
    "        else: \n",
    "            running_sum += df.loc[i, \"Dummies\"]\n",
    "            df.loc[i,\"sum with reset\"]= running_sum\n",
    "    return df"
   ]
  },
  {
   "cell_type": "code",
   "execution_count": 341,
   "id": "0fe1953d-c7cc-4265-a05e-692227794d7e",
   "metadata": {},
   "outputs": [],
   "source": []
  }
 ],
 "metadata": {
  "kernelspec": {
   "display_name": "Python 3 (ipykernel)",
   "language": "python",
   "name": "python3"
  },
  "language_info": {
   "codemirror_mode": {
    "name": "ipython",
    "version": 3
   },
   "file_extension": ".py",
   "mimetype": "text/x-python",
   "name": "python",
   "nbconvert_exporter": "python",
   "pygments_lexer": "ipython3",
   "version": "3.12.4"
  }
 },
 "nbformat": 4,
 "nbformat_minor": 5
}
