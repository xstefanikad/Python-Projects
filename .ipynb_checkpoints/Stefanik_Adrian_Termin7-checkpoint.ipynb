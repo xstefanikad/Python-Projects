{
 "cells": [
  {
   "cell_type": "markdown",
   "id": "d4e44ec4-8528-4211-acb3-a3f9ec4c3df2",
   "metadata": {},
   "source": [
    "# Aufgaben zu Einheit 7\n",
    "---\n",
    "## Aufgabe 1"
   ]
  },
  {
   "cell_type": "code",
   "execution_count": null,
   "id": "8da63b23-125a-46b5-9178-e5375aa001cb",
   "metadata": {},
   "outputs": [],
   "source": []
  },
  {
   "cell_type": "code",
   "execution_count": 86,
   "id": "20b952c7-6e6b-4c08-a1c1-96d909c5f675",
   "metadata": {},
   "outputs": [
    {
     "name": "stdout",
     "output_type": "stream",
     "text": [
      "          \n",
      "         1\n",
      "        111\n",
      "       11111\n",
      "      1111111\n",
      "     111111111\n",
      "    11111111111\n",
      "   1111111111111\n",
      "  111111111111111\n",
      " 11111111111111111\n",
      "1111111111111111111\n"
     ]
    }
   ],
   "source": [
    "def pyramide(hoehe, zeichen, umgekehrt):\n",
    "    if umgekehrt: \n",
    "        for i in range(hoehe, 0, -1):\n",
    "            print(\" \" * (hoehe -i) + zeichen * (2*i-1))\n",
    "    else:\n",
    "        for i in range(0, hoehe+1):\n",
    "            print(\" \" * (hoehe - i) + zeichen * (2 * i - 1) )\n",
    "\n",
    "pyramide(10,\"1\",False)"
   ]
  },
  {
   "cell_type": "code",
   "execution_count": null,
   "id": "8493e294-94db-4f80-9a92-5318e2a6685c",
   "metadata": {},
   "outputs": [],
   "source": [
    " "
   ]
  }
 ],
 "metadata": {
  "kernelspec": {
   "display_name": "Python 3 (ipykernel)",
   "language": "python",
   "name": "python3"
  },
  "language_info": {
   "codemirror_mode": {
    "name": "ipython",
    "version": 3
   },
   "file_extension": ".py",
   "mimetype": "text/x-python",
   "name": "python",
   "nbconvert_exporter": "python",
   "pygments_lexer": "ipython3",
   "version": "3.12.4"
  }
 },
 "nbformat": 4,
 "nbformat_minor": 5
}
