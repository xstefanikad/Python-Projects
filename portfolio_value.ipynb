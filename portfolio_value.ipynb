{
 "cells": [
  {
   "cell_type": "markdown",
   "id": "56e5da1e",
   "metadata": {},
   "source": [
    "# Portfolio Value Calculation\r\n",
    "\r\n",
    "This script calculates the total value of a stock portfolio based on the number of shares held and their corresponding stock prices.\r\n",
    "\r\n",
    "## Key Steps:\r\n",
    "\r\n",
    "1. **Input Data**:\r\n",
    "   - Two dictionaries are used as inputs:\r\n",
    "     - **`a`**: Contains stock tickers as keys and the number of shares held as values.\r\n",
    "     - **`b`**: Contains stock tickers as keys and their current prices as values.\r\n",
    "\r\n",
    "2. **Validation**:\r\n",
    "   - The script checks whether all stocks in the portfolio (`a`) have corresponding price information in the price dictionary (`b`).\r\n",
    "   - If any stock in `a` is missing in `b`, the script prints: \r\n",
    "     ```\r\n",
    "     Price information missing for [ticker(s)]\r\n",
    "     ```\r\n",
    "     and stops execution.\r\n",
    "\r\n",
    "3. **Portfolio Value Calculation**:\r\n",
    "   - If price information exists for all stocks:\r\n",
    "     - The script multiplies the number of shares for each stock by its corresponding price.\r\n",
    "     - The results for each stock are summed to calculate the total portfolio value.\r\n",
    "\r\n",
    "4. **Output**:\r\n",
    "   - The total portfolio value is returned.\r\n",
    "\r\n",
    "This script ensures that the portfolio calculation is accurate and avoids errors due to missing price information.\r\n"
   ]
  },
  {
   "cell_type": "code",
   "execution_count": 92,
   "id": "81a17d2f-cb7b-4640-8814-ffdc57de85b3",
   "metadata": {},
   "outputs": [
    {
     "data": {
      "text/plain": [
       "860"
      ]
     },
     "execution_count": 92,
     "metadata": {},
     "output_type": "execute_result"
    }
   ],
   "source": [
    "#Create a dictionary where the keys are stock tickers and the values are the number of shares contained in a portfolio \n",
    "\n",
    "a = {\"AAPL\": 10,\"MSFT\": 20, \"GOOGL\": 30 }\n",
    "#Create another dictionary of current stock prices of the same stocks.\n",
    "b = {\"AAPL\": 1,\"MSFT\": 5, \"GOOGL\": 25}\n",
    "\n",
    "\n",
    "def portfolio(a,b): \n",
    "    c = []\n",
    "    d = []\n",
    "    portfolio_value = []\n",
    "    d\n",
    "    ticks_in_a = [x for x in a.items()]\n",
    "    ticks_in_b = [x for x in b.items()] \n",
    "    missing_in_b = [x for x in a if x not in b]\n",
    "\n",
    "    \n",
    " #If a stock appears in the first dictionary but not in the second, the function should print \"Price information missing for X\",\n",
    "  \n",
    "    if len(missing_in_b) != 0: \n",
    "        print(f\"price information missing for {missing_in_b}\")\n",
    "        return None \n",
    "    else:\n",
    "        for tick, share in  a.items(): \n",
    "            c.append(share)\n",
    "\n",
    "        for tick, price in b.items(): \n",
    "            d.append(price)\n",
    "\n",
    "        for i in range(len(c)):\n",
    "            portfolio_value.append((c[i] * d[i]))\n",
    "\n",
    "       \n",
    "        return sum(portfolio_value)\n",
    "\n",
    "\n",
    "portfolio(a,b)        \n"
   ]
  }
 ],
 "metadata": {
  "kernelspec": {
   "display_name": "Python 3 (ipykernel)",
   "language": "python",
   "name": "python3"
  },
  "language_info": {
   "codemirror_mode": {
    "name": "ipython",
    "version": 3
   },
   "file_extension": ".py",
   "mimetype": "text/x-python",
   "name": "python",
   "nbconvert_exporter": "python",
   "pygments_lexer": "ipython3",
   "version": "3.12.4"
  }
 },
 "nbformat": 4,
 "nbformat_minor": 5
}
