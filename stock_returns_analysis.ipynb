{
 "cells": [
  {
   "cell_type": "markdown",
   "id": "56e5da1e",
   "metadata": {},
   "source": [
    "# Stock Prices and Returns Analysis\r\n",
    "\r\n",
    "This script processes a dataset of daily stock prices, calculates arithmetic returns, and analyzes weekly returns for a randomly selected week.\r\n",
    "\r\n",
    "## Key Steps:\r\n",
    "\r\n",
    "1. **Data Initialization**:\r\n",
    "   - Stock prices for 21 days are provided as an input array.\r\n",
    "   - A pandas DataFrame is created to store prices and their corresponding daily returns.\r\n",
    "\r\n",
    "2. **Daily Returns Calculation**:\r\n",
    "   - Daily returns are calculated as the percentage change between consecutive prices, adjusted to a scale of `1 + return`.\r\n",
    "   - The first return is set to `0` since no previous price exists for comparison.\r\n",
    "\r\n",
    "3. **Matrix Adjustment**:\r\n",
    "   - The first row is omitted as it does not contribute to return analysis.\r\n",
    "   - The DataFrame is re-indexed to reflect the adjusted number of rows.\r\n",
    "\r\n",
    "4. **Arithmetic Return**:\r\n",
    "   - The arithmetic return is computed by averaging daily returns and subtracting `1` to align it with standard financial definitions.\r\n",
    "\r\n",
    "5. **Weekly Return Analysis**:\r\n",
    "   - The dataset is divided into weeks, represented as blocks of 5 consecutive days.\r\n",
    "   - A week is randomly selected for analysis.\r\n",
    "   - The weekly return is calculated using the formula:\r\n",
    "     \\[\r\n",
    "     \\text{Weekly Return} = \\frac{\\text{Price at Last Day of Week} - \\text{Price at First Day of Week}}{\\text{Price at First Day of Week}}\r\n",
    "     \\]\r\n",
    "\r\n",
    "6. **Output**:\r\n",
    "   - The script prints the weekly return for the randomly selected week.\r\n",
    "\r\n",
    "This script provides both daily and weekly insights into stock price movements and highlights the flexibility of pandas for financial analysis.\r\n"
   ]
  },
  {
   "cell_type": "code",
   "execution_count": 431,
   "id": "908842b8-9d59-4ca1-a513-e18eae231d56",
   "metadata": {},
   "outputs": [
    {
     "name": "stdout",
     "output_type": "stream",
     "text": [
      " weekly return in week 2 is 0.047781237835733716\n"
     ]
    }
   ],
   "source": [
    "#### import numpy as np\n",
    "import pandas as pd\n",
    "import random\n",
    "prices = np.array([100, 101.97, 102.68, 100.92, 100.38, 100.91, 102.76, 105.05, 105.07, 106.37, 107.67, 108.61, 109.57, 110.66, 110.39, 110.26, 109.25, 108.04, 108.62, 108.5, 108.73])[:, np.newaxis]\n",
    "\n",
    "#create a matrix to store our values\n",
    "row_names = np.arange(22).tolist() #to take track of the days\n",
    "row_names.pop(0) #lets make it start from 1 \n",
    "col_names = [\"price\", \"return\"] #col names\n",
    "matrix = np.zeros((21,2)) \n",
    "matrix = pd.DataFrame(matrix, index = row_names, columns = col_names) #create the data frame\n",
    "matrix[\"price\"] = prices #import prices columns \n",
    "\n",
    "matrix[\"return\"] = matrix[\"price\"].pct_change() + 1 #calculate returns\n",
    "matrix[\"return\"] = matrix[\"return\"].fillna(0) #the first row doesnt have a return so replace it with 0 \n",
    "\n",
    "matrix = matrix.iloc[1:] #the first row doesnt have a return so for our purposes we can omit it \n",
    "matrix.index = np.arange(1, len(matrix) + 1) #shift the other rows of the matrix \n",
    "\n",
    "#arithmetic return\n",
    "#sum of returns \n",
    "sum_returns = sum(matrix[\"return\"])\n",
    "arithmetic_return = (sum_returns / 21) - 1 #calculate the arithmetic return, but we need to devide by 21 to account for the deleted row \n",
    "\n",
    "#list of days \n",
    "days = [5,10,15,20] #devide the matrix into n days, 5 = week1, 10 = week 2 etc\n",
    "#randomly choose one. \n",
    "n = int(random.choice(days))\n",
    "weekly_data = matrix.iloc[n-5:n] #get the data for the corresponding week \n",
    "#compute weekly return with Price for last weekday - Price for first weekday)/(Price for first weekday)\n",
    "\n",
    "last_day = weekly_data.iloc[-1,0]\n",
    "first_day = weekly_data.iloc[0,0]\n",
    "\n",
    "weekly_return =   (last_day - first_day) / first_day\n",
    "print(f\" weekly return in week {int(n/5)} is {weekly_return}\")\n",
    "\n",
    "\n"
   ]
  }
 ],
 "metadata": {
  "kernelspec": {
   "display_name": "Python 3 (ipykernel)",
   "language": "python",
   "name": "python3"
  },
  "language_info": {
   "codemirror_mode": {
    "name": "ipython",
    "version": 3
   },
   "file_extension": ".py",
   "mimetype": "text/x-python",
   "name": "python",
   "nbconvert_exporter": "python",
   "pygments_lexer": "ipython3",
   "version": "3.12.4"
  }
 },
 "nbformat": 4,
 "nbformat_minor": 5
}
