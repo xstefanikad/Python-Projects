{
 "cells": [
  {
   "cell_type": "markdown",
   "id": "fd6d5dc5-e6c0-47b3-a268-e8c3ec6208f7",
   "metadata": {},
   "source": [
    "# Aufgaben zu Einheit 6\n",
    "---"
   ]
  },
  {
   "cell_type": "markdown",
   "id": "38bf50a1-5244-419b-b774-e70a84d23011",
   "metadata": {},
   "source": [
    "## Aufgabe 1\n",
    "--- "
   ]
  },
  {
   "cell_type": "code",
   "execution_count": 8,
   "id": "9eb561dc-aca3-4264-be97-bd3146947266",
   "metadata": {},
   "outputs": [
    {
     "data": {
      "text/plain": [
       "[2,\n",
       " 3,\n",
       " 5,\n",
       " 7,\n",
       " 11,\n",
       " 13,\n",
       " 17,\n",
       " 19,\n",
       " 23,\n",
       " 29,\n",
       " 31,\n",
       " 37,\n",
       " 41,\n",
       " 43,\n",
       " 47,\n",
       " 53,\n",
       " 59,\n",
       " 61,\n",
       " 67,\n",
       " 71,\n",
       " 73,\n",
       " 79,\n",
       " 83,\n",
       " 89,\n",
       " 97]"
      ]
     },
     "execution_count": 8,
     "metadata": {},
     "output_type": "execute_result"
    }
   ],
   "source": [
    "n = 100\n",
    "prim = [True] * (n + 1)  \n",
    "\n",
    "for j in range(2, int(n**(1/2)) + 1):\n",
    "    if prim[j] == True:\n",
    "        for i in range(j**2, n + 1, j):\n",
    "            prim[i] = False\n",
    "\n",
    "prime_zahlen = [i for i in range(2, n) if prim[i]]\n",
    "prime_zahlen\n"
   ]
  },
  {
   "cell_type": "markdown",
   "id": "b98dee1d-bca4-4c4e-80a8-9558590f2234",
   "metadata": {},
   "source": [
    "## Aufgabe 2\n",
    "---"
   ]
  },
  {
   "cell_type": "code",
   "execution_count": 1,
   "id": "cb04e322-0f01-4a9f-b9e8-19d283575221",
   "metadata": {},
   "outputs": [
    {
     "name": "stdin",
     "output_type": "stream",
     "text": [
      "Eingabe 456456*84564\n"
     ]
    },
    {
     "name": "stdout",
     "output_type": "stream",
     "text": [
      "38599745184\n"
     ]
    },
    {
     "name": "stdin",
     "output_type": "stream",
     "text": [
      "Eingabe quit\n"
     ]
    },
    {
     "name": "stdout",
     "output_type": "stream",
     "text": [
      "Programm wird beendet\n"
     ]
    }
   ],
   "source": [
    "def multiplikation(ein):\n",
    "    erste_zahl = []\n",
    "    zweite_zahl= []\n",
    "    mal = int(ein.find('*'))\n",
    "    for i in range(0,mal):\n",
    "        erste_zahl.append(ein[i])\n",
    "        erste_zahl_int = int(''.join(erste_zahl))\n",
    "    for i in range(mal +1, len(ein)): \n",
    "        zweite_zahl.append(ein[i])\n",
    "        zweite_zahl_int = int(''.join(zweite_zahl))\n",
    "    ergebnis = erste_zahl_int * zweite_zahl_int\n",
    "    return ergebnis\n",
    "\n",
    "def substrahieren(ein):\n",
    "    erste_zahl = []\n",
    "    zweite_zahl= []\n",
    "    minus = int(ein.find('-'))\n",
    "    for i in range(0,minus):\n",
    "        erste_zahl.append(ein[i])\n",
    "        erste_zahl_int = int(''.join(erste_zahl))\n",
    "    for i in range(minus +1, len(ein)): \n",
    "        zweite_zahl.append(ein[i])\n",
    "        zweite_zahl_int = int(''.join(zweite_zahl))\n",
    "    ergebnis = erste_zahl_int - zweite_zahl_int\n",
    "    return ergebnis\n",
    "\n",
    "def division(ein):\n",
    "    erste_zahl = []\n",
    "    zweite_zahl= []\n",
    "    durch = int(ein.find('/'))\n",
    "    for i in range(0,durch):\n",
    "        erste_zahl.append(ein[i])\n",
    "        erste_zahl_int = int(''.join(erste_zahl))\n",
    "    for i in range(durch +1, len(ein)): \n",
    "        zweite_zahl.append(ein[i])\n",
    "        zweite_zahl_int = int(''.join(zweite_zahl))\n",
    "    ergebnis = erste_zahl_int / zweite_zahl_int\n",
    "    return ergebnis\n",
    "\n",
    "\n",
    "def addition(ein):\n",
    "    erster_summand = []\n",
    "    zweiter_summand = []\n",
    "    plus = int(ein.find('+'))\n",
    "    for i in range(0,plus):\n",
    "        erster_summand.append(ein[i])\n",
    "        erster_summand_int = int(''.join(erster_summand))\n",
    "    for i in range(plus +1, len(ein)): \n",
    "        zweiter_summand.append(ein[i])\n",
    "        zweiter_summand_int = int(''.join(zweiter_summand))\n",
    "    ergebnis = erster_summand_int + zweiter_summand_int\n",
    "    return ergebnis\n",
    "while True:\n",
    "    ein =  input('Eingabe')\n",
    "    if 'quit' in ein:\n",
    "        print('Programm wird beendet')\n",
    "        break\n",
    "    if '+' in ein:\n",
    "       ergebnis = addition(ein)\n",
    "    elif '*' in ein:\n",
    "       ergebnis = multiplikation(ein)\n",
    "    elif '/' in ein:\n",
    "       ergebnis = division(ein)\n",
    "    elif '-' in ein:\n",
    "       ergebnis = substrahieren(ein)\n",
    "    else:\n",
    "        print(\"Ungültige Eingabe. Bitte versuchen Sie es erneut.\")\n",
    "        continue\n",
    "    print(ergebnis)\n"
   ]
  },
  {
   "cell_type": "code",
   "execution_count": null,
   "id": "61cd0acf-6f37-48ff-8d76-70dbe483eaec",
   "metadata": {},
   "outputs": [],
   "source": []
  },
  {
   "cell_type": "code",
   "execution_count": null,
   "id": "f373333e-ceff-449d-a1b8-cce2974de0b9",
   "metadata": {},
   "outputs": [],
   "source": []
  }
 ],
 "metadata": {
  "kernelspec": {
   "display_name": "Python 3 (ipykernel)",
   "language": "python",
   "name": "python3"
  },
  "language_info": {
   "codemirror_mode": {
    "name": "ipython",
    "version": 3
   },
   "file_extension": ".py",
   "mimetype": "text/x-python",
   "name": "python",
   "nbconvert_exporter": "python",
   "pygments_lexer": "ipython3",
   "version": "3.12.4"
  }
 },
 "nbformat": 4,
 "nbformat_minor": 5
}
