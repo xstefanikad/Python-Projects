{
 "cells": [
  {
   "cell_type": "markdown",
   "id": "c585ec11",
   "metadata": {},
   "source": [
    "# Simulate Stock Returns with Adjustments\r\n",
    "\r\n",
    "This script simulates stock return data for two companies, Apple and Microsoft, over 24 time steps. It includes data manipulation and preparation steps for further analysis.\r\n",
    "\r\n",
    "## Key Steps:\r\n",
    "1. **Simulation of Returns**:\r\n",
    "   - Returns are generated using a normal distribution with a predefine .02`) and standard dev0.09`).\r\n",
    "\r\n",
    "2. **Data Manipulation**:\r\n",
    "   - The first value of Apple's returns is set to `0`.\r\n",
    "   - Values in Microsoft's returns greater than `0.05` are capped at `0.05`.\r\n",
    "   - A specific value in Microsoft's returns is set to `NaN` and later replaced with `0`.\r\n",
    "\r\n",
    "3. **Final Dataset Preparation**:\r\n",
    "   - The last 12 rows of the data are retained.\r\n",
    "   - An additional column is added, calculating the average return for each row.\r\n",
    "   - Missing values are replaced with `0`.\r\n",
    "\r\n",
    "The processed data is stored in a pandas DataFrame for further analysis.\r\n"
   ]
  },
  {
   "cell_type": "code",
   "execution_count": null,
   "id": "2bdda650-d08a-4161-8c2c-3ff363dd445a",
   "metadata": {},
   "outputs": [],
   "source": [
    "import numpy as np\n",
    "import pandas as pd\n",
    "\n",
    "########################\n",
    "#set the default values#\n",
    "#######################\n",
    "\n",
    "rng = np.random.default_rng(12345)\n",
    "mean = 0.02\n",
    "std = 0.09\n",
    "n = 24\n",
    "\n",
    "######################\n",
    "#simulate the returns#\n",
    "#####################\n",
    "\n",
    "series = [\"apple\", \"microsoft\"]\n",
    "stocks = {}\n",
    "\n",
    "for stock_name in series: \n",
    "    stocks[stock_name] = pd.Series(rng.normal(loc = mean, size = n, scale = std), index =list(range(0,30*n,30))[:n] )\n",
    "\n",
    "\n",
    "###################\n",
    "#row manipulation#\n",
    "#################\n",
    "\n",
    "#change the first value of apple to 0\n",
    "stocks[\"apple\"][0] = 0\n",
    "\n",
    "#change rows with values > 0.05 to 0.05\n",
    "for index,value in enumerate(stocks[\"microsoft\"]):\n",
    "    if value > 0.05:\n",
    "        stocks[\"microsoft\"].values[index] = 0.05\n",
    "\n",
    "stocks[\"microsoft\"].values[20] = np.nan\n",
    "\n",
    "##########################\n",
    "#create stocks dataframe#\n",
    "##retain last 12 rows###\n",
    "###calculate average###\n",
    "######################\n",
    "stocks\n",
    "stocks_df = pd.DataFrame(stocks, columns = stocks.keys(), )\n",
    "stocks_df = stocks_df[-12:]\n",
    "stocks_df[\"Average\"] = np.mean(stocks_df, axis = 1)\n",
    "stocks_df.fillna(0, inplace = True)"
   ]
  }
 ],
 "metadata": {
  "kernelspec": {
   "display_name": "Python 3 (ipykernel)",
   "language": "python",
   "name": "python3"
  },
  "language_info": {
   "codemirror_mode": {
    "name": "ipython",
    "version": 3
   },
   "file_extension": ".py",
   "mimetype": "text/x-python",
   "name": "python",
   "nbconvert_exporter": "python",
   "pygments_lexer": "ipython3",
   "version": "3.12.4"
  }
 },
 "nbformat": 4,
 "nbformat_minor": 5
}
